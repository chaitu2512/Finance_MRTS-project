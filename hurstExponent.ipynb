{
 "cells": [
  {
   "cell_type": "code",
   "execution_count": 1,
   "metadata": {},
   "outputs": [],
   "source": [
    "import pandas as pd\n",
    "import numpy as np"
   ]
  },
  {
   "cell_type": "code",
   "execution_count": 12,
   "metadata": {},
   "outputs": [],
   "source": [
    "def hurst_exp(input_ts, lags_to_test=150):\n",
    "    \n",
    "    tau = []\n",
    "    lags = []\n",
    "    \n",
    "    for lag in range(2, lags_to_test, 1):\n",
    "        \n",
    "        lags.append(lag)\n",
    "        \n",
    "        # price difference between original series and its lagged part\n",
    "        price_diff = np.subtract(input_ts[lag:].values, \n",
    "                                 input_ts[:-lag].values)\n",
    "        \n",
    "        # var is the variance of the price difference series\n",
    "        var = np.sqrt(np.nanstd(price_diff))\n",
    "        tau.append(var)\n",
    "        \n",
    "    # polyfitting the double-legged series    \n",
    "    m = np.polyfit(np.log10(lags), np.log10(tau), 1)\n",
    "    \n",
    "    hurst = m[0]*2\n",
    "    \n",
    "    return hurst"
   ]
  },
  {
   "cell_type": "code",
   "execution_count": 13,
   "metadata": {},
   "outputs": [],
   "source": [
    "stocklist = pd.read_table(\"stocklist.txt\",names=('A'))"
   ]
  },
  {
   "cell_type": "code",
   "execution_count": 14,
   "metadata": {},
   "outputs": [],
   "source": [
    "hurst_exp_list = []\n",
    "\n",
    "for stockname in stocklist['A']:\n",
    "    \n",
    "    df_all = pd.read_csv(\"stock_data/\"+stockname+\".csv\", \n",
    "                         names=('Dates', 'stockVWAP', 'futureVWAP', 'bidPrice', 'askPrice', 'total_value', 'total_size'))\n",
    "    \n",
    "    df_train = df_all[:60000]\n",
    "    \n",
    "    df_train_resampled_10min = df_train[df_train.index % 10 == 0]\n",
    "    df_train_resampled_10min.reset_index(drop=True)\n",
    "    df = df_train_resampled_10min[:5999]\n",
    "    \n",
    "    hurst_score = hurst_exp(df['stockVWAP'])\n",
    "    \n",
    "    hurst_exp_list.append((stockname, hurst_score))"
   ]
  },
  {
   "cell_type": "code",
   "execution_count": 15,
   "metadata": {},
   "outputs": [],
   "source": [
    "hurst_scores = pd.DataFrame(hurst_exp_list)\n",
    "hurst_scores = hurst_scores.rename(columns={0:'stockname', 1:'hurst_score'})"
   ]
  },
  {
   "cell_type": "code",
   "execution_count": 17,
   "metadata": {},
   "outputs": [],
   "source": [
    "selected_stocks = hurst_scores[hurst_scores['hurst_score']<0.5].reset_index(drop=True)"
   ]
  },
  {
   "cell_type": "code",
   "execution_count": 18,
   "metadata": {},
   "outputs": [],
   "source": [
    "selected_stocks.to_csv('selected_stocks_hurst_exponent.csv')"
   ]
  },
  {
   "cell_type": "code",
   "execution_count": null,
   "metadata": {},
   "outputs": [],
   "source": []
  }
 ],
 "metadata": {
  "kernelspec": {
   "display_name": "Python 3",
   "language": "python",
   "name": "python3"
  },
  "language_info": {
   "codemirror_mode": {
    "name": "ipython",
    "version": 3
   },
   "file_extension": ".py",
   "mimetype": "text/x-python",
   "name": "python",
   "nbconvert_exporter": "python",
   "pygments_lexer": "ipython3",
   "version": "3.7.4"
  }
 },
 "nbformat": 4,
 "nbformat_minor": 2
}
